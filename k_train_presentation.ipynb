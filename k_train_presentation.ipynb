{
  "nbformat": 4,
  "nbformat_minor": 0,
  "metadata": {
    "colab": {
      "provenance": []
    },
    "kernelspec": {
      "name": "python3",
      "display_name": "Python 3"
    },
    "language_info": {
      "name": "python"
    }
  },
  "cells": [
    {
      "cell_type": "markdown",
      "source": [
        "# Data Preprocessing"
      ],
      "metadata": {
        "id": "vLc3lTDG-xuT"
      }
    },
    {
      "cell_type": "markdown",
      "source": [
        "Importing / Installing Libraries"
      ],
      "metadata": {
        "id": "KT_oYzHO-4Lf"
      }
    },
    {
      "cell_type": "code",
      "execution_count": null,
      "metadata": {
        "id": "y4eQSv3N9o1S"
      },
      "outputs": [],
      "source": [
        "# imported libraries\n",
        "import pandas as pd\n",
        "import numpy as np\n",
        "import csv\n",
        "import matplotlib.pyplot as plt\n",
        "from sklearn.model_selection import train_test_split\n",
        "from tensorflow.keras.models import Sequential\n",
        "from tensorflow.keras.layers import Dense, Embedding, Flatten, Dropout, Conv1D, MaxPooling1D, LSTM\n",
        "from tensorflow.keras.preprocessing.text import Tokenizer\n",
        "from tensorflow.keras.preprocessing.sequence import pad_sequences\n",
        "from tensorflow import keras\n",
        "\n",
        "# installing ktrain\n",
        "!pip install ktrain gwpy --quiet\n",
        "import ktrain\n",
        "from ktrain import text"
      ]
    },
    {
      "cell_type": "markdown",
      "source": [
        "Connecting to Google Drive"
      ],
      "metadata": {
        "id": "ByyzkjG5_Ydz"
      }
    },
    {
      "cell_type": "code",
      "source": [
        "# connecting to my drive\n",
        "from google.colab import drive\n",
        "drive.mount('/content/drive')\n",
        "\n",
        "# setting up wine dataset\n",
        "data = pd.read_csv('/content/drive/MyDrive/CS Foundation Courses/Machine Learning/ML_Project_Folder/AB_NYC_2019.csv')"
      ],
      "metadata": {
        "colab": {
          "base_uri": "https://localhost:8080/"
        },
        "id": "LUyUjKwh-3Nj",
        "outputId": "6128fdd7-d527-4d0f-9691-71d7f986446c"
      },
      "execution_count": null,
      "outputs": [
        {
          "output_type": "stream",
          "name": "stdout",
          "text": [
            "Drive already mounted at /content/drive; to attempt to forcibly remount, call drive.mount(\"/content/drive\", force_remount=True).\n"
          ]
        }
      ]
    },
    {
      "cell_type": "markdown",
      "source": [
        "General Data Info"
      ],
      "metadata": {
        "id": "x35Twm_i_cL7"
      }
    },
    {
      "cell_type": "code",
      "source": [
        "# dataset length\n",
        "print(\"dataset length: \" + str(len(data)))\n",
        "\n",
        "\n",
        "# dataset head\n",
        "data[['name', 'neighbourhood', 'price']].head()"
      ],
      "metadata": {
        "colab": {
          "base_uri": "https://localhost:8080/",
          "height": 223
        },
        "id": "6zz6TICs_fb_",
        "outputId": "18ea6d95-3ecc-46a0-b8ba-2d412b9af1d7"
      },
      "execution_count": null,
      "outputs": [
        {
          "output_type": "stream",
          "name": "stdout",
          "text": [
            "dataset length: 48895\n"
          ]
        },
        {
          "output_type": "execute_result",
          "data": {
            "text/plain": [
              "                                               name neighbourhood  price\n",
              "0                Clean & quiet apt home by the park    Kensington    149\n",
              "1                             Skylit Midtown Castle       Midtown    225\n",
              "2               THE VILLAGE OF HARLEM....NEW YORK !        Harlem    150\n",
              "3                   Cozy Entire Floor of Brownstone  Clinton Hill     89\n",
              "4  Entire Apt: Spacious Studio/Loft by central park   East Harlem     80"
            ],
            "text/html": [
              "\n",
              "  <div id=\"df-58285adc-13c8-43d6-9d08-2cd48048f136\">\n",
              "    <div class=\"colab-df-container\">\n",
              "      <div>\n",
              "<style scoped>\n",
              "    .dataframe tbody tr th:only-of-type {\n",
              "        vertical-align: middle;\n",
              "    }\n",
              "\n",
              "    .dataframe tbody tr th {\n",
              "        vertical-align: top;\n",
              "    }\n",
              "\n",
              "    .dataframe thead th {\n",
              "        text-align: right;\n",
              "    }\n",
              "</style>\n",
              "<table border=\"1\" class=\"dataframe\">\n",
              "  <thead>\n",
              "    <tr style=\"text-align: right;\">\n",
              "      <th></th>\n",
              "      <th>name</th>\n",
              "      <th>neighbourhood</th>\n",
              "      <th>price</th>\n",
              "    </tr>\n",
              "  </thead>\n",
              "  <tbody>\n",
              "    <tr>\n",
              "      <th>0</th>\n",
              "      <td>Clean &amp; quiet apt home by the park</td>\n",
              "      <td>Kensington</td>\n",
              "      <td>149</td>\n",
              "    </tr>\n",
              "    <tr>\n",
              "      <th>1</th>\n",
              "      <td>Skylit Midtown Castle</td>\n",
              "      <td>Midtown</td>\n",
              "      <td>225</td>\n",
              "    </tr>\n",
              "    <tr>\n",
              "      <th>2</th>\n",
              "      <td>THE VILLAGE OF HARLEM....NEW YORK !</td>\n",
              "      <td>Harlem</td>\n",
              "      <td>150</td>\n",
              "    </tr>\n",
              "    <tr>\n",
              "      <th>3</th>\n",
              "      <td>Cozy Entire Floor of Brownstone</td>\n",
              "      <td>Clinton Hill</td>\n",
              "      <td>89</td>\n",
              "    </tr>\n",
              "    <tr>\n",
              "      <th>4</th>\n",
              "      <td>Entire Apt: Spacious Studio/Loft by central park</td>\n",
              "      <td>East Harlem</td>\n",
              "      <td>80</td>\n",
              "    </tr>\n",
              "  </tbody>\n",
              "</table>\n",
              "</div>\n",
              "      <button class=\"colab-df-convert\" onclick=\"convertToInteractive('df-58285adc-13c8-43d6-9d08-2cd48048f136')\"\n",
              "              title=\"Convert this dataframe to an interactive table.\"\n",
              "              style=\"display:none;\">\n",
              "        \n",
              "  <svg xmlns=\"http://www.w3.org/2000/svg\" height=\"24px\"viewBox=\"0 0 24 24\"\n",
              "       width=\"24px\">\n",
              "    <path d=\"M0 0h24v24H0V0z\" fill=\"none\"/>\n",
              "    <path d=\"M18.56 5.44l.94 2.06.94-2.06 2.06-.94-2.06-.94-.94-2.06-.94 2.06-2.06.94zm-11 1L8.5 8.5l.94-2.06 2.06-.94-2.06-.94L8.5 2.5l-.94 2.06-2.06.94zm10 10l.94 2.06.94-2.06 2.06-.94-2.06-.94-.94-2.06-.94 2.06-2.06.94z\"/><path d=\"M17.41 7.96l-1.37-1.37c-.4-.4-.92-.59-1.43-.59-.52 0-1.04.2-1.43.59L10.3 9.45l-7.72 7.72c-.78.78-.78 2.05 0 2.83L4 21.41c.39.39.9.59 1.41.59.51 0 1.02-.2 1.41-.59l7.78-7.78 2.81-2.81c.8-.78.8-2.07 0-2.86zM5.41 20L4 18.59l7.72-7.72 1.47 1.35L5.41 20z\"/>\n",
              "  </svg>\n",
              "      </button>\n",
              "      \n",
              "  <style>\n",
              "    .colab-df-container {\n",
              "      display:flex;\n",
              "      flex-wrap:wrap;\n",
              "      gap: 12px;\n",
              "    }\n",
              "\n",
              "    .colab-df-convert {\n",
              "      background-color: #E8F0FE;\n",
              "      border: none;\n",
              "      border-radius: 50%;\n",
              "      cursor: pointer;\n",
              "      display: none;\n",
              "      fill: #1967D2;\n",
              "      height: 32px;\n",
              "      padding: 0 0 0 0;\n",
              "      width: 32px;\n",
              "    }\n",
              "\n",
              "    .colab-df-convert:hover {\n",
              "      background-color: #E2EBFA;\n",
              "      box-shadow: 0px 1px 2px rgba(60, 64, 67, 0.3), 0px 1px 3px 1px rgba(60, 64, 67, 0.15);\n",
              "      fill: #174EA6;\n",
              "    }\n",
              "\n",
              "    [theme=dark] .colab-df-convert {\n",
              "      background-color: #3B4455;\n",
              "      fill: #D2E3FC;\n",
              "    }\n",
              "\n",
              "    [theme=dark] .colab-df-convert:hover {\n",
              "      background-color: #434B5C;\n",
              "      box-shadow: 0px 1px 3px 1px rgba(0, 0, 0, 0.15);\n",
              "      filter: drop-shadow(0px 1px 2px rgba(0, 0, 0, 0.3));\n",
              "      fill: #FFFFFF;\n",
              "    }\n",
              "  </style>\n",
              "\n",
              "      <script>\n",
              "        const buttonEl =\n",
              "          document.querySelector('#df-58285adc-13c8-43d6-9d08-2cd48048f136 button.colab-df-convert');\n",
              "        buttonEl.style.display =\n",
              "          google.colab.kernel.accessAllowed ? 'block' : 'none';\n",
              "\n",
              "        async function convertToInteractive(key) {\n",
              "          const element = document.querySelector('#df-58285adc-13c8-43d6-9d08-2cd48048f136');\n",
              "          const dataTable =\n",
              "            await google.colab.kernel.invokeFunction('convertToInteractive',\n",
              "                                                     [key], {});\n",
              "          if (!dataTable) return;\n",
              "\n",
              "          const docLinkHtml = 'Like what you see? Visit the ' +\n",
              "            '<a target=\"_blank\" href=https://colab.research.google.com/notebooks/data_table.ipynb>data table notebook</a>'\n",
              "            + ' to learn more about interactive tables.';\n",
              "          element.innerHTML = '';\n",
              "          dataTable['output_type'] = 'display_data';\n",
              "          await google.colab.output.renderOutput(dataTable, element);\n",
              "          const docLink = document.createElement('div');\n",
              "          docLink.innerHTML = docLinkHtml;\n",
              "          element.appendChild(docLink);\n",
              "        }\n",
              "      </script>\n",
              "    </div>\n",
              "  </div>\n",
              "  "
            ]
          },
          "metadata": {},
          "execution_count": 25
        }
      ]
    },
    {
      "cell_type": "markdown",
      "source": [
        "Looking at distribution of prices\n",
        "* Not many cases past 750, so they will be dropped in an attempt to now scew the linear model"
      ],
      "metadata": {
        "id": "8plsXnV5AuFZ"
      }
    },
    {
      "cell_type": "code",
      "source": [
        "plt.hist(data['price'], bins=100)\n",
        "plt.xlabel('Price')\n",
        "plt.ylabel('Frequency')\n",
        "plt.title('Distribution of Price')\n",
        "plt.xlim([0, 2000])\n",
        "\n",
        "hist, bin_edges = np.histogram(data['price'], bins=100)\n",
        "\n",
        "# Add text annotations for the counts in each bin\n",
        "for i in range(5):\n",
        "    plt.text(bin_edges[i], hist[i], str(hist[i]), ha='center', va='bottom')\n",
        "\n",
        "plt.show()\n"
      ],
      "metadata": {
        "colab": {
          "base_uri": "https://localhost:8080/",
          "height": 472
        },
        "id": "6U_j3DuL_-bR",
        "outputId": "fa56677f-4ac2-4ef9-dd56-95de12b258aa"
      },
      "execution_count": null,
      "outputs": [
        {
          "output_type": "display_data",
          "data": {
            "text/plain": [
              "<Figure size 640x480 with 1 Axes>"
            ],
            "image/png": "[encoded data removed]"
          },
          "metadata": {}
        }
      ]
    },
    {
      "cell_type": "code",
      "source": [
        "data = data[data['price'] <= 325]\n",
        "\n",
        "# dataset length\n",
        "print(\"dataset length (After removing outliers: \" + str(len(data)))"
      ],
      "metadata": {
        "colab": {
          "base_uri": "https://localhost:8080/"
        },
        "id": "RL2EsDq1Bf95",
        "outputId": "fb99cbac-592d-4b30-8af6-cf3f6abe2b0c"
      },
      "execution_count": null,
      "outputs": [
        {
          "output_type": "stream",
          "name": "stdout",
          "text": [
            "dataset length (After removing outliers: 45861\n"
          ]
        }
      ]
    },
    {
      "cell_type": "code",
      "source": [
        "data['name_neighbourhood'] = data.apply(lambda x: f\"{x['name']} {x['neighbourhood']}\", axis=1)"
      ],
      "metadata": {
        "id": "7M97zh5_F0cV"
      },
      "execution_count": null,
      "outputs": []
    },
    {
      "cell_type": "code",
      "source": [
        "data.head()"
      ],
      "metadata": {
        "colab": {
          "base_uri": "https://localhost:8080/",
          "height": 461
        },
        "id": "wss09HHEF8S1",
        "outputId": "10127352-0f07-4727-a25f-03fa9bd6f444"
      },
      "execution_count": null,
      "outputs": [
        {
          "output_type": "execute_result",
          "data": {
            "text/plain": [
              "     id                                              name  host_id  \\\n",
              "0  2539                Clean & quiet apt home by the park     2787   \n",
              "1  2595                             Skylit Midtown Castle     2845   \n",
              "2  3647               THE VILLAGE OF HARLEM....NEW YORK !     4632   \n",
              "3  3831                   Cozy Entire Floor of Brownstone     4869   \n",
              "4  5022  Entire Apt: Spacious Studio/Loft by central park     7192   \n",
              "\n",
              "     host_name neighbourhood_group neighbourhood  latitude  longitude  \\\n",
              "0         John            Brooklyn    Kensington  40.64749  -73.97237   \n",
              "1     Jennifer           Manhattan       Midtown  40.75362  -73.98377   \n",
              "2    Elisabeth           Manhattan        Harlem  40.80902  -73.94190   \n",
              "3  LisaRoxanne            Brooklyn  Clinton Hill  40.68514  -73.95976   \n",
              "4        Laura           Manhattan   East Harlem  40.79851  -73.94399   \n",
              "\n",
              "         room_type  price  minimum_nights  number_of_reviews last_review  \\\n",
              "0     Private room    149               1                  9  2018-10-19   \n",
              "1  Entire home/apt    225               1                 45  2019-05-21   \n",
              "2     Private room    150               3                  0         NaN   \n",
              "3  Entire home/apt     89               1                270  2019-07-05   \n",
              "4  Entire home/apt     80              10                  9  2018-11-19   \n",
              "\n",
              "   reviews_per_month  calculated_host_listings_count  availability_365  \\\n",
              "0               0.21                               6               365   \n",
              "1               0.38                               2               355   \n",
              "2                NaN                               1               365   \n",
              "3               4.64                               1               194   \n",
              "4               0.10                               1                 0   \n",
              "\n",
              "                                  name_neighbourhood  \n",
              "0      Clean & quiet apt home by the park Kensington  \n",
              "1                      Skylit Midtown Castle Midtown  \n",
              "2         THE VILLAGE OF HARLEM....NEW YORK ! Harlem  \n",
              "3       Cozy Entire Floor of Brownstone Clinton Hill  \n",
              "4  Entire Apt: Spacious Studio/Loft by central pa...  "
            ],
            "text/html": [
              "\n",
              "  <div id=\"df-02d16e01-06c9-4857-9733-4d6a972c0d07\">\n",
              "    <div class=\"colab-df-container\">\n",
              "      <div>\n",
              "<style scoped>\n",
              "    .dataframe tbody tr th:only-of-type {\n",
              "        vertical-align: middle;\n",
              "    }\n",
              "\n",
              "    .dataframe tbody tr th {\n",
              "        vertical-align: top;\n",
              "    }\n",
              "\n",
              "    .dataframe thead th {\n",
              "        text-align: right;\n",
              "    }\n",
              "</style>\n",
              "<table border=\"1\" class=\"dataframe\">\n",
              "  <thead>\n",
              "    <tr style=\"text-align: right;\">\n",
              "      <th></th>\n",
              "      <th>id</th>\n",
              "      <th>name</th>\n",
              "      <th>host_id</th>\n",
              "      <th>host_name</th>\n",
              "      <th>neighbourhood_group</th>\n",
              "      <th>neighbourhood</th>\n",
              "      <th>latitude</th>\n",
              "      <th>longitude</th>\n",
              "      <th>room_type</th>\n",
              "      <th>price</th>\n",
              "      <th>minimum_nights</th>\n",
              "      <th>number_of_reviews</th>\n",
              "      <th>last_review</th>\n",
              "      <th>reviews_per_month</th>\n",
              "      <th>calculated_host_listings_count</th>\n",
              "      <th>availability_365</th>\n",
              "      <th>name_neighbourhood</th>\n",
              "    </tr>\n",
              "  </thead>\n",
              "  <tbody>\n",
              "    <tr>\n",
              "      <th>0</th>\n",
              "      <td>2539</td>\n",
              "      <td>Clean &amp; quiet apt home by the park</td>\n",
              "      <td>2787</td>\n",
              "      <td>John</td>\n",
              "      <td>Brooklyn</td>\n",
              "      <td>Kensington</td>\n",
              "      <td>40.64749</td>\n",
              "      <td>-73.97237</td>\n",
              "      <td>Private room</td>\n",
              "      <td>149</td>\n",
              "      <td>1</td>\n",
              "      <td>9</td>\n",
              "      <td>2018-10-19</td>\n",
              "      <td>0.21</td>\n",
              "      <td>6</td>\n",
              "      <td>365</td>\n",
              "      <td>Clean &amp; quiet apt home by the park Kensington</td>\n",
              "    </tr>\n",
              "    <tr>\n",
              "      <th>1</th>\n",
              "      <td>2595</td>\n",
              "      <td>Skylit Midtown Castle</td>\n",
              "      <td>2845</td>\n",
              "      <td>Jennifer</td>\n",
              "      <td>Manhattan</td>\n",
              "      <td>Midtown</td>\n",
              "      <td>40.75362</td>\n",
              "      <td>-73.98377</td>\n",
              "      <td>Entire home/apt</td>\n",
              "      <td>225</td>\n",
              "      <td>1</td>\n",
              "      <td>45</td>\n",
              "      <td>2019-05-21</td>\n",
              "      <td>0.38</td>\n",
              "      <td>2</td>\n",
              "      <td>355</td>\n",
              "      <td>Skylit Midtown Castle Midtown</td>\n",
              "    </tr>\n",
              "    <tr>\n",
              "      <th>2</th>\n",
              "      <td>3647</td>\n",
              "      <td>THE VILLAGE OF HARLEM....NEW YORK !</td>\n",
              "      <td>4632</td>\n",
              "      <td>Elisabeth</td>\n",
              "      <td>Manhattan</td>\n",
              "      <td>Harlem</td>\n",
              "      <td>40.80902</td>\n",
              "      <td>-73.94190</td>\n",
              "      <td>Private room</td>\n",
              "      <td>150</td>\n",
              "      <td>3</td>\n",
              "      <td>0</td>\n",
              "      <td>NaN</td>\n",
              "      <td>NaN</td>\n",
              "      <td>1</td>\n",
              "      <td>365</td>\n",
              "      <td>THE VILLAGE OF HARLEM....NEW YORK ! Harlem</td>\n",
              "    </tr>\n",
              "    <tr>\n",
              "      <th>3</th>\n",
              "      <td>3831</td>\n",
              "      <td>Cozy Entire Floor of Brownstone</td>\n",
              "      <td>4869</td>\n",
              "      <td>LisaRoxanne</td>\n",
              "      <td>Brooklyn</td>\n",
              "      <td>Clinton Hill</td>\n",
              "      <td>40.68514</td>\n",
              "      <td>-73.95976</td>\n",
              "      <td>Entire home/apt</td>\n",
              "      <td>89</td>\n",
              "      <td>1</td>\n",
              "      <td>270</td>\n",
              "      <td>2019-07-05</td>\n",
              "      <td>4.64</td>\n",
              "      <td>1</td>\n",
              "      <td>194</td>\n",
              "      <td>Cozy Entire Floor of Brownstone Clinton Hill</td>\n",
              "    </tr>\n",
              "    <tr>\n",
              "      <th>4</th>\n",
              "      <td>5022</td>\n",
              "      <td>Entire Apt: Spacious Studio/Loft by central park</td>\n",
              "      <td>7192</td>\n",
              "      <td>Laura</td>\n",
              "      <td>Manhattan</td>\n",
              "      <td>East Harlem</td>\n",
              "      <td>40.79851</td>\n",
              "      <td>-73.94399</td>\n",
              "      <td>Entire home/apt</td>\n",
              "      <td>80</td>\n",
              "      <td>10</td>\n",
              "      <td>9</td>\n",
              "      <td>2018-11-19</td>\n",
              "      <td>0.10</td>\n",
              "      <td>1</td>\n",
              "      <td>0</td>\n",
              "      <td>Entire Apt: Spacious Studio/Loft by central pa...</td>\n",
              "    </tr>\n",
              "  </tbody>\n",
              "</table>\n",
              "</div>\n",
              "      <button class=\"colab-df-convert\" onclick=\"convertToInteractive('df-02d16e01-06c9-4857-9733-4d6a972c0d07')\"\n",
              "              title=\"Convert this dataframe to an interactive table.\"\n",
              "              style=\"display:none;\">\n",
              "        \n",
              "  <svg xmlns=\"http://www.w3.org/2000/svg\" height=\"24px\"viewBox=\"0 0 24 24\"\n",
              "       width=\"24px\">\n",
              "    <path d=\"M0 0h24v24H0V0z\" fill=\"none\"/>\n",
              "    <path d=\"M18.56 5.44l.94 2.06.94-2.06 2.06-.94-2.06-.94-.94-2.06-.94 2.06-2.06.94zm-11 1L8.5 8.5l.94-2.06 2.06-.94-2.06-.94L8.5 2.5l-.94 2.06-2.06.94zm10 10l.94 2.06.94-2.06 2.06-.94-2.06-.94-.94-2.06-.94 2.06-2.06.94z\"/><path d=\"M17.41 7.96l-1.37-1.37c-.4-.4-.92-.59-1.43-.59-.52 0-1.04.2-1.43.59L10.3 9.45l-7.72 7.72c-.78.78-.78 2.05 0 2.83L4 21.41c.39.39.9.59 1.41.59.51 0 1.02-.2 1.41-.59l7.78-7.78 2.81-2.81c.8-.78.8-2.07 0-2.86zM5.41 20L4 18.59l7.72-7.72 1.47 1.35L5.41 20z\"/>\n",
              "  </svg>\n",
              "      </button>\n",
              "      \n",
              "  <style>\n",
              "    .colab-df-container {\n",
              "      display:flex;\n",
              "      flex-wrap:wrap;\n",
              "      gap: 12px;\n",
              "    }\n",
              "\n",
              "    .colab-df-convert {\n",
              "      background-color: #E8F0FE;\n",
              "      border: none;\n",
              "      border-radius: 50%;\n",
              "      cursor: pointer;\n",
              "      display: none;\n",
              "      fill: #1967D2;\n",
              "      height: 32px;\n",
              "      padding: 0 0 0 0;\n",
              "      width: 32px;\n",
              "    }\n",
              "\n",
              "    .colab-df-convert:hover {\n",
              "      background-color: #E2EBFA;\n",
              "      box-shadow: 0px 1px 2px rgba(60, 64, 67, 0.3), 0px 1px 3px 1px rgba(60, 64, 67, 0.15);\n",
              "      fill: #174EA6;\n",
              "    }\n",
              "\n",
              "    [theme=dark] .colab-df-convert {\n",
              "      background-color: #3B4455;\n",
              "      fill: #D2E3FC;\n",
              "    }\n",
              "\n",
              "    [theme=dark] .colab-df-convert:hover {\n",
              "      background-color: #434B5C;\n",
              "      box-shadow: 0px 1px 3px 1px rgba(0, 0, 0, 0.15);\n",
              "      filter: drop-shadow(0px 1px 2px rgba(0, 0, 0, 0.3));\n",
              "      fill: #FFFFFF;\n",
              "    }\n",
              "  </style>\n",
              "\n",
              "      <script>\n",
              "        const buttonEl =\n",
              "          document.querySelector('#df-02d16e01-06c9-4857-9733-4d6a972c0d07 button.colab-df-convert');\n",
              "        buttonEl.style.display =\n",
              "          google.colab.kernel.accessAllowed ? 'block' : 'none';\n",
              "\n",
              "        async function convertToInteractive(key) {\n",
              "          const element = document.querySelector('#df-02d16e01-06c9-4857-9733-4d6a972c0d07');\n",
              "          const dataTable =\n",
              "            await google.colab.kernel.invokeFunction('convertToInteractive',\n",
              "                                                     [key], {});\n",
              "          if (!dataTable) return;\n",
              "\n",
              "          const docLinkHtml = 'Like what you see? Visit the ' +\n",
              "            '<a target=\"_blank\" href=https://colab.research.google.com/notebooks/data_table.ipynb>data table notebook</a>'\n",
              "            + ' to learn more about interactive tables.';\n",
              "          element.innerHTML = '';\n",
              "          dataTable['output_type'] = 'display_data';\n",
              "          await google.colab.output.renderOutput(dataTable, element);\n",
              "          const docLink = document.createElement('div');\n",
              "          docLink.innerHTML = docLinkHtml;\n",
              "          element.appendChild(docLink);\n",
              "        }\n",
              "      </script>\n",
              "    </div>\n",
              "  </div>\n",
              "  "
            ]
          },
          "metadata": {},
          "execution_count": 8
        }
      ]
    },
    {
      "cell_type": "code",
      "source": [
        "from sklearn.model_selection import train_test_split\n",
        "import pandas as pd\n",
        "\n",
        "# join the name and neighbourhood columns together\n",
        "X = data['name_neighbourhood'].values\n",
        "y = data['price'].values\n",
        "\n",
        "# split the data into train and test sets\n",
        "X_train, X_test, y_train, y_test = train_test_split(X, y,\n",
        "                                                    test_size=0.2,\n",
        "                                                    random_state=42)\n"
      ],
      "metadata": {
        "id": "EkZzgx9rByxc"
      },
      "execution_count": null,
      "outputs": []
    },
    {
      "cell_type": "markdown",
      "source": [
        "# k-train"
      ],
      "metadata": {
        "id": "n0iUTpqOnF86"
      }
    },
    {
      "cell_type": "code",
      "source": [
        "# preprocess the text data using Keras\n",
        "trn, val, preproc = text.texts_from_array(x_train=X_train, y_train=y_train,\n",
        "                                          x_test=X_test, y_test=y_test,\n",
        "                                          ngram_range=3,\n",
        "                                          maxlen=200,\n",
        "                                          max_features=25000)\n",
        "\n",
        "# creating text regression model\n",
        "model = text.text_regression_model('linreg',\n",
        "                                   train_data=trn,\n",
        "                                   preproc=preproc)\n",
        "learner = ktrain.get_learner(model,\n",
        "                             train_data=trn,\n",
        "                             val_data=val,\n",
        "                             batch_size=64)"
      ],
      "metadata": {
        "id": "LivDyeWxEZt7"
      },
      "execution_count": null,
      "outputs": []
    },
    {
      "cell_type": "code",
      "source": [
        "learner.lr_find()\n",
        "learner.lr_plot()\n",
        "best_lr = learner.lr_estimate()[0]\n",
        "print(best_lr)"
      ],
      "metadata": {
        "colab": {
          "base_uri": "https://localhost:8080/",
          "height": 717
        },
        "id": "dQkwnqXLEbm6",
        "outputId": "1637d077-0eaf-4722-dc4a-8ba6900fc474"
      },
      "execution_count": null,
      "outputs": [
        {
          "output_type": "stream",
          "name": "stdout",
          "text": [
            "simulating training for different learning rates... this may take a few moments...\n",
            "Epoch 1/1024\n",
            "574/574 [==============================] - 5s 8ms/step - loss: 18898.0059 - mae: 119.6095\n",
            "Epoch 2/1024\n",
            "574/574 [==============================] - 3s 6ms/step - loss: 18588.8945 - mae: 118.3176\n",
            "Epoch 3/1024\n",
            "574/574 [==============================] - 3s 5ms/step - loss: 8340.9922 - mae: 68.0472\n",
            "Epoch 4/1024\n",
            "574/574 [==============================] - 1s 1ms/step - loss: 17233.3555 - mae: 86.5242\n",
            "\n",
            "\n",
            "done.\n",
            "Please invoke the Learner.lr_plot() method to visually inspect the loss plot to help identify the maximal learning rate associated with falling loss.\n"
          ]
        },
        {
          "output_type": "display_data",
          "data": {
            "text/plain": [
              "<Figure size 640x480 with 1 Axes>"
            ],
            "image/png": "[encoded data removed]"
          },
          "metadata": {}
        },
        {
          "output_type": "stream",
          "name": "stdout",
          "text": [
            "0.0066474252\n"
          ]
        }
      ]
    },
    {
      "cell_type": "code",
      "source": [
        "learner.plot()"
      ],
      "metadata": {
        "id": "DxDWRUXVGBGZ",
        "colab": {
          "base_uri": "https://localhost:8080/",
          "height": 472
        },
        "outputId": "ac007508-755d-4fb5-f450-836814120474"
      },
      "execution_count": null,
      "outputs": [
        {
          "output_type": "display_data",
          "data": {
            "text/plain": [
              "<Figure size 640x480 with 1 Axes>"
            ],
            "image/png": "[encoded data removed]"
          },
          "metadata": {}
        }
      ]
    },
    {
      "cell_type": "code",
      "source": [
        "learner.fit_onecycle(.006, 50)"
      ],
      "metadata": {
        "colab": {
          "base_uri": "https://localhost:8080/"
        },
        "id": "AB66-SPIeOpU",
        "outputId": "2da682f8-ae39-4fe6-fbb4-6730feea3fbd"
      },
      "execution_count": null,
      "outputs": [
        {
          "output_type": "stream",
          "name": "stdout",
          "text": [
            "\n",
            "\n",
            "begin training using onecycle policy with max lr of 0.006...\n",
            "Epoch 1/50\n",
            "574/574 [==============================] - 4s 7ms/step - loss: 18517.7773 - mae: 118.0259 - val_loss: 18181.6543 - val_mae: 116.6209\n",
            "Epoch 2/50\n",
            "574/574 [==============================] - 6s 10ms/step - loss: 17613.0918 - mae: 114.1737 - val_loss: 17199.8086 - val_mae: 112.3434\n",
            "Epoch 3/50\n",
            "574/574 [==============================] - 4s 8ms/step - loss: 16535.7637 - mae: 109.3957 - val_loss: 16071.9678 - val_mae: 107.1945\n",
            "Epoch 4/50\n",
            "574/574 [==============================] - 4s 7ms/step - loss: 15331.5811 - mae: 103.7560 - val_loss: 14844.8955 - val_mae: 101.2560\n",
            "Epoch 5/50\n",
            "574/574 [==============================] - 4s 6ms/step - loss: 14048.9541 - mae: 97.3793 - val_loss: 13567.3848 - val_mae: 94.6861\n",
            "Epoch 6/50\n",
            "574/574 [==============================] - 6s 10ms/step - loss: 12736.2725 - mae: 90.4915 - val_loss: 12285.2725 - val_mae: 87.8129\n",
            "Epoch 7/50\n",
            "574/574 [==============================] - 4s 7ms/step - loss: 11443.6621 - mae: 83.5168 - val_loss: 11048.8691 - val_mae: 81.0717\n",
            "Epoch 8/50\n",
            "574/574 [==============================] - 4s 6ms/step - loss: 10215.8770 - mae: 76.9032 - val_loss: 9897.0098 - val_mae: 74.9144\n",
            "Epoch 9/50\n",
            "574/574 [==============================] - 4s 7ms/step - loss: 9090.8975 - mae: 70.9859 - val_loss: 8862.9180 - val_mae: 69.5632\n",
            "Epoch 10/50\n",
            "574/574 [==============================] - 6s 10ms/step - loss: 8094.9062 - mae: 65.9654 - val_loss: 7967.2378 - val_mae: 65.1826\n",
            "Epoch 11/50\n",
            "574/574 [==============================] - 4s 7ms/step - loss: 7236.6973 - mae: 61.8450 - val_loss: 7206.9678 - val_mae: 61.6472\n",
            "Epoch 12/50\n",
            "574/574 [==============================] - 4s 7ms/step - loss: 6512.7241 - mae: 58.3955 - val_loss: 6576.1323 - val_mae: 58.7957\n",
            "Epoch 13/50\n",
            "574/574 [==============================] - 5s 8ms/step - loss: 5907.9478 - mae: 55.5683 - val_loss: 6052.9399 - val_mae: 56.4577\n",
            "Epoch 14/50\n",
            "574/574 [==============================] - 5s 9ms/step - loss: 5402.6333 - mae: 53.1158 - val_loss: 5617.0073 - val_mae: 54.4660\n",
            "Epoch 15/50\n",
            "574/574 [==============================] - 4s 7ms/step - loss: 4975.8311 - mae: 50.9843 - val_loss: 5249.5439 - val_mae: 52.6978\n",
            "Epoch 16/50\n",
            "574/574 [==============================] - 4s 7ms/step - loss: 4610.4878 - mae: 49.0442 - val_loss: 4935.9653 - val_mae: 51.1086\n",
            "Epoch 17/50\n",
            "574/574 [==============================] - 6s 11ms/step - loss: 4293.9165 - mae: 47.2175 - val_loss: 4666.4429 - val_mae: 49.6869\n",
            "Epoch 18/50\n",
            "574/574 [==============================] - 5s 9ms/step - loss: 4017.9001 - mae: 45.5629 - val_loss: 4433.0659 - val_mae: 48.4023\n",
            "Epoch 19/50\n",
            "574/574 [==============================] - 4s 7ms/step - loss: 3775.7637 - mae: 44.0300 - val_loss: 4232.9277 - val_mae: 47.2817\n",
            "Epoch 20/50\n",
            "574/574 [==============================] - 4s 7ms/step - loss: 3562.7656 - mae: 42.6128 - val_loss: 4060.7212 - val_mae: 46.2970\n",
            "Epoch 21/50\n",
            "574/574 [==============================] - 6s 10ms/step - loss: 3373.9355 - mae: 41.3177 - val_loss: 3911.9399 - val_mae: 45.4338\n",
            "Epoch 22/50\n",
            "574/574 [==============================] - 4s 6ms/step - loss: 3205.7068 - mae: 40.1373 - val_loss: 3783.8032 - val_mae: 44.6721\n",
            "Epoch 23/50\n",
            "574/574 [==============================] - 4s 7ms/step - loss: 3054.6577 - mae: 39.0198 - val_loss: 3672.5576 - val_mae: 44.0219\n",
            "Epoch 24/50\n",
            "574/574 [==============================] - 5s 8ms/step - loss: 2917.6804 - mae: 37.9988 - val_loss: 3575.7053 - val_mae: 43.4338\n",
            "Epoch 25/50\n",
            "574/574 [==============================] - 5s 9ms/step - loss: 2791.9758 - mae: 36.9852 - val_loss: 3490.2925 - val_mae: 42.9361\n",
            "Epoch 26/50\n",
            "574/574 [==============================] - 4s 7ms/step - loss: 2675.9490 - mae: 36.0716 - val_loss: 3417.4023 - val_mae: 42.4813\n",
            "Epoch 27/50\n",
            "574/574 [==============================] - 4s 6ms/step - loss: 2572.5596 - mae: 35.1933 - val_loss: 3356.2517 - val_mae: 42.1422\n",
            "Epoch 28/50\n",
            "574/574 [==============================] - 5s 9ms/step - loss: 2481.7090 - mae: 34.4169 - val_loss: 3304.8103 - val_mae: 41.8365\n",
            "Epoch 29/50\n",
            "574/574 [==============================] - 5s 8ms/step - loss: 2401.0562 - mae: 33.7126 - val_loss: 3261.0869 - val_mae: 41.5656\n",
            "Epoch 30/50\n",
            "574/574 [==============================] - 4s 6ms/step - loss: 2329.1541 - mae: 33.0669 - val_loss: 3223.6428 - val_mae: 41.3434\n",
            "Epoch 31/50\n",
            "574/574 [==============================] - 4s 7ms/step - loss: 2264.6082 - mae: 32.4605 - val_loss: 3191.4075 - val_mae: 41.1578\n",
            "Epoch 32/50\n",
            "574/574 [==============================] - 5s 9ms/step - loss: 2206.5137 - mae: 31.9195 - val_loss: 3163.3674 - val_mae: 40.9875\n",
            "Epoch 33/50\n",
            "574/574 [==============================] - 4s 8ms/step - loss: 2154.0945 - mae: 31.4133 - val_loss: 3139.0020 - val_mae: 40.8448\n",
            "Epoch 34/50\n",
            "574/574 [==============================] - 4s 7ms/step - loss: 2106.7544 - mae: 30.9528 - val_loss: 3117.8308 - val_mae: 40.7221\n",
            "Epoch 35/50\n",
            "574/574 [==============================] - 4s 7ms/step - loss: 2063.9031 - mae: 30.5253 - val_loss: 3099.4817 - val_mae: 40.6080\n",
            "Epoch 36/50\n",
            "574/574 [==============================] - 5s 9ms/step - loss: 2025.0693 - mae: 30.1308 - val_loss: 3083.2549 - val_mae: 40.5140\n",
            "Epoch 37/50\n",
            "574/574 [==============================] - 4s 8ms/step - loss: 1989.9365 - mae: 29.7770 - val_loss: 3069.1123 - val_mae: 40.4292\n",
            "Epoch 38/50\n",
            "574/574 [==============================] - 4s 7ms/step - loss: 1958.2213 - mae: 29.4488 - val_loss: 3056.6584 - val_mae: 40.3556\n",
            "Epoch 39/50\n",
            "574/574 [==============================] - 5s 9ms/step - loss: 1929.5940 - mae: 29.1463 - val_loss: 3045.8110 - val_mae: 40.2891\n",
            "Epoch 40/50\n",
            "574/574 [==============================] - 5s 9ms/step - loss: 1903.9941 - mae: 28.8752 - val_loss: 3036.3579 - val_mae: 40.2330\n",
            "Epoch 41/50\n",
            "574/574 [==============================] - 4s 7ms/step - loss: 1881.0063 - mae: 28.6245 - val_loss: 3028.1941 - val_mae: 40.1881\n",
            "Epoch 42/50\n",
            "574/574 [==============================] - 4s 7ms/step - loss: 1860.6603 - mae: 28.4114 - val_loss: 3021.1477 - val_mae: 40.1458\n",
            "Epoch 43/50\n",
            "574/574 [==============================] - 4s 8ms/step - loss: 1842.7754 - mae: 28.2278 - val_loss: 3014.9609 - val_mae: 40.1051\n",
            "Epoch 44/50\n",
            "574/574 [==============================] - 5s 9ms/step - loss: 1827.2048 - mae: 28.0475 - val_loss: 3009.9121 - val_mae: 40.0768\n",
            "Epoch 45/50\n",
            "574/574 [==============================] - 4s 7ms/step - loss: 1813.9111 - mae: 27.8974 - val_loss: 3005.7278 - val_mae: 40.0505\n",
            "Epoch 46/50\n",
            "574/574 [==============================] - 4s 7ms/step - loss: 1802.7715 - mae: 27.7750 - val_loss: 3002.4155 - val_mae: 40.0330\n",
            "Epoch 47/50\n",
            "574/574 [==============================] - 5s 8ms/step - loss: 1793.7261 - mae: 27.6695 - val_loss: 2999.8691 - val_mae: 40.0176\n",
            "Epoch 48/50\n",
            "574/574 [==============================] - 5s 8ms/step - loss: 1786.7543 - mae: 27.5894 - val_loss: 2997.9727 - val_mae: 40.0061\n",
            "Epoch 49/50\n",
            "574/574 [==============================] - 4s 6ms/step - loss: 1781.8260 - mae: 27.5335 - val_loss: 2996.9387 - val_mae: 40.0002\n",
            "Epoch 50/50\n",
            "574/574 [==============================] - 4s 7ms/step - loss: 1778.8915 - mae: 27.4979 - val_loss: 2996.5505 - val_mae: 39.9981\n"
          ]
        },
        {
          "output_type": "execute_result",
          "data": {
            "text/plain": [
              "<keras.callbacks.History at 0x7f6b63d2f790>"
            ]
          },
          "metadata": {},
          "execution_count": 47
        }
      ]
    },
    {
      "cell_type": "markdown",
      "source": [
        "# Keras\n"
      ],
      "metadata": {
        "id": "5vVvRKO5nPc5"
      }
    },
    {
      "cell_type": "code",
      "source": [
        "# imported libraries\n",
        "import pandas as pd\n",
        "import numpy as np\n",
        "import csv\n",
        "import matplotlib.pyplot as plt\n",
        "from sklearn.model_selection import train_test_split\n",
        "from tensorflow.keras.models import Sequential\n",
        "from tensorflow.keras.layers import Dense, Embedding, Flatten, Dropout, Conv1D, MaxPooling1D, LSTM\n",
        "from tensorflow.keras.preprocessing.text import Tokenizer\n",
        "from tensorflow.keras.preprocessing.sequence import pad_sequences\n",
        "from sklearn.preprocessing import StandardScaler\n",
        "from tensorflow import keras\n",
        "from tensorflow.keras.callbacks import EarlyStopping\n",
        "\n",
        "# connecting to my drive\n",
        "from google.colab import drive\n",
        "drive.mount('/content/drive')\n",
        "data = pd.read_csv('/content/drive/MyDrive/CS Foundation Courses/Machine Learning/ML_Project_Folder/AB_NYC_2019.csv')\n",
        "data = data[data['price'] <= 325]\n",
        "data['name_neighbourhood'] = data.apply(lambda x: f\"{x['name']} {x['neighbourhood']}\", axis=1)"
      ],
      "metadata": {
        "id": "fRXhPvVPw4wo",
        "colab": {
          "base_uri": "https://localhost:8080/"
        },
        "outputId": "89688ff8-1643-458c-cea4-8f306d170bd3"
      },
      "execution_count": null,
      "outputs": [
        {
          "output_type": "stream",
          "name": "stdout",
          "text": [
            "Drive already mounted at /content/drive; to attempt to forcibly remount, call drive.mount(\"/content/drive\", force_remount=True).\n"
          ]
        }
      ]
    },
    {
      "cell_type": "code",
      "source": [
        "# create variables\n",
        "X = data['name_neighbourhood'].values\n",
        "y = data['price'].values\n",
        "\n",
        "# preprocess the text data\n",
        "tokenizer = Tokenizer(num_words=25000)\n",
        "tokenizer.fit_on_texts(X)\n",
        "X = tokenizer.texts_to_sequences(X)\n",
        "X = pad_sequences(X, maxlen=200)\n",
        "\n",
        "# split data into training and testing sets\n",
        "X_train, X_test, y_train, y_test = train_test_split(X, y,\n",
        "                                                    test_size=0.2, random_state=42)"
      ],
      "metadata": {
        "id": "IHT2K6uvnWG8"
      },
      "execution_count": null,
      "outputs": []
    },
    {
      "cell_type": "code",
      "source": [
        "# standardizing Data\n",
        "scaler = StandardScaler()\n",
        "X_train = scaler.fit_transform(X_train)\n",
        "X_test = scaler.transform(X_test)"
      ],
      "metadata": {
        "id": "hmFrkPlkfxuC"
      },
      "execution_count": null,
      "outputs": []
    },
    {
      "cell_type": "markdown",
      "source": [
        "**SIMPLE LINEAR REGRESSION MODEL**"
      ],
      "metadata": {
        "id": "muRYWu8ic6NY"
      }
    },
    {
      "cell_type": "code",
      "source": [
        "# define the model architecture\n",
        "model = Sequential()\n",
        "model.add(Embedding(input_dim=25000,\n",
        "                    output_dim=100,\n",
        "                    input_length=200))\n",
        "model.add(Flatten())\n",
        "model.add(Dense(units=64, activation='relu'))\n",
        "model.add(Dropout(rate=0.2))\n",
        "model.add(Dense(units=1))\n",
        "\n",
        "# optimizer / callback\n",
        "optimizer_obj = keras.optimizers.Adam(learning_rate=0.1)\n",
        "early_stop = EarlyStopping(monitor='val_loss', patience=3, verbose=3)\n",
        "\n",
        "# compile the model\n",
        "model.compile(loss='mse', optimizer=optimizer_obj, metrics=['mae'])\n",
        "\n",
        "# train the model\n",
        "history = model.fit(X_train, y_train, epochs=50, batch_size=64,\n",
        "                    validation_data=(X_test, y_test), callbacks=[early_stop])"
      ],
      "metadata": {
        "colab": {
          "base_uri": "https://localhost:8080/"
        },
        "id": "NjTpSkVzuLd4",
        "outputId": "e8825d08-a5ed-4399-c38e-86e900d2a770"
      },
      "execution_count": null,
      "outputs": [
        {
          "output_type": "stream",
          "name": "stdout",
          "text": [
            "Epoch 1/10\n",
            "574/574 [==============================] - 45s 77ms/step - loss: 3851.3677 - mae: 47.2882 - val_loss: 2620.2461 - val_mae: 38.3240\n",
            "Epoch 2/10\n",
            "574/574 [==============================] - 44s 77ms/step - loss: 2601.3376 - mae: 38.2052 - val_loss: 2507.8413 - val_mae: 38.3168\n",
            "Epoch 3/10\n",
            "574/574 [==============================] - 43s 74ms/step - loss: 2431.4397 - mae: 36.6503 - val_loss: 2429.3374 - val_mae: 36.1257\n",
            "Epoch 4/10\n",
            "574/574 [==============================] - 43s 75ms/step - loss: 2311.7102 - mae: 35.5267 - val_loss: 2414.0740 - val_mae: 36.1286\n",
            "Epoch 5/10\n",
            "574/574 [==============================] - 47s 81ms/step - loss: 2199.4094 - mae: 34.5824 - val_loss: 2419.2510 - val_mae: 36.3526\n",
            "Epoch 6/10\n",
            "574/574 [==============================] - 41s 71ms/step - loss: 2119.4551 - mae: 33.8460 - val_loss: 2447.3806 - val_mae: 36.6721\n",
            "Epoch 7/10\n",
            "574/574 [==============================] - 42s 73ms/step - loss: 2069.4138 - mae: 33.2782 - val_loss: 2478.6565 - val_mae: 36.2298\n",
            "Epoch 7: early stopping\n"
          ]
        }
      ]
    },
    {
      "cell_type": "code",
      "source": [
        "plt.plot(history.history['loss'])\n",
        "plt.plot(history.history['val_loss'])\n",
        "plt.title('Model Loss')\n",
        "plt.ylabel('Loss')\n",
        "plt.xlabel('Epoch')\n",
        "plt.legend(['Train', 'Validation'], loc='upper right')\n",
        "plt.show()"
      ],
      "metadata": {
        "colab": {
          "base_uri": "https://localhost:8080/",
          "height": 472
        },
        "id": "z3txoG4824wW",
        "outputId": "c14bfa99-f4a6-4629-bd14-ae7753102154"
      },
      "execution_count": null,
      "outputs": [
        {
          "output_type": "display_data",
          "data": {
            "text/plain": [
              "<Figure size 640x480 with 1 Axes>"
            ],
            "image/png": "[encoded data removed]"
          },
          "metadata": {}
        }
      ]
    },
    {
      "cell_type": "markdown",
      "source": [
        "**LSTM LINEAR REGRESSION MODEL**"
      ],
      "metadata": {
        "id": "XusIAsySdWPf"
      }
    },
    {
      "cell_type": "markdown",
      "source": [
        "took 25 minutes"
      ],
      "metadata": {
        "id": "KYk8ehOmwEXE"
      }
    },
    {
      "cell_type": "code",
      "source": [
        "# Define the model\n",
        "model = Sequential()\n",
        "model.add(Embedding(input_dim=25000,\n",
        "                    output_dim=100,\n",
        "                    input_length=200))\n",
        "model.add(LSTM(units=64,\n",
        "               activation='tanh'))\n",
        "model.add(Dense(units=1,\n",
        "                activation='linear'))\n",
        "\n",
        "# Compile the model\n",
        "optimizer_obj = keras.optimizers.Adam(learning_rate=0.006)\n",
        "model.compile(loss='mean_squared_error',\n",
        "              optimizer=optimizer_obj,\n",
        "              metrics=['mae'])\n",
        "\n",
        "# train the model\n",
        "history = model.fit(X_train, y_train, validation_data=(X_test, y_test),\n",
        "                    epochs=7, batch_size=64, verbose=1)"
      ],
      "metadata": {
        "colab": {
          "base_uri": "https://localhost:8080/"
        },
        "id": "KtP2M2T3oM30",
        "outputId": "1b74091a-3611-41eb-8ac6-3953711895b9"
      },
      "execution_count": null,
      "outputs": [
        {
          "output_type": "stream",
          "name": "stdout",
          "text": [
            "Epoch 1/7\n",
            "574/574 [==============================] - 213s 357ms/step - loss: 5600.8735 - mae: 56.1118 - val_loss: 4048.4705 - val_mae: 46.3560\n",
            "Epoch 2/7\n",
            "574/574 [==============================] - 211s 368ms/step - loss: 3009.4097 - mae: 41.1998 - val_loss: 2671.8740 - val_mae: 39.2692\n",
            "Epoch 3/7\n",
            "574/574 [==============================] - 218s 379ms/step - loss: 2519.9451 - mae: 37.2816 - val_loss: 2621.9548 - val_mae: 37.9529\n",
            "Epoch 4/7\n",
            "574/574 [==============================] - 213s 372ms/step - loss: 2377.1572 - mae: 36.1676 - val_loss: 2561.8303 - val_mae: 37.6831\n",
            "Epoch 5/7\n",
            "574/574 [==============================] - 212s 369ms/step - loss: 2265.6555 - mae: 35.1546 - val_loss: 2499.1177 - val_mae: 37.1538\n",
            "Epoch 6/7\n",
            "574/574 [==============================] - 214s 372ms/step - loss: 2166.7202 - mae: 34.2696 - val_loss: 2476.8086 - val_mae: 37.2412\n",
            "Epoch 7/7\n",
            "574/574 [==============================] - 214s 373ms/step - loss: 2085.7676 - mae: 33.5661 - val_loss: 2474.0535 - val_mae: 37.0087\n"
          ]
        }
      ]
    },
    {
      "cell_type": "code",
      "source": [
        "plt.plot(history.history['loss'])\n",
        "plt.plot(history.history['val_loss'])\n",
        "plt.title('Model Loss')\n",
        "plt.ylabel('Loss')\n",
        "plt.xlabel('Epoch')\n",
        "plt.legend(['Train', 'Validation'], loc='upper right')\n",
        "plt.show()"
      ],
      "metadata": {
        "colab": {
          "base_uri": "https://localhost:8080/",
          "height": 472
        },
        "id": "wJW687pSwGat",
        "outputId": "74150672-b47c-4780-e5fb-aff528eaa8ec"
      },
      "execution_count": null,
      "outputs": [
        {
          "output_type": "display_data",
          "data": {
            "text/plain": [
              "<Figure size 640x480 with 1 Axes>"
            ],
            "image/png": "[encoded data removed]"
          },
          "metadata": {}
        }
      ]
    },
    {
      "cell_type": "code",
      "source": [
        "data['price'].mean()"
      ],
      "metadata": {
        "id": "9rUAnWFN2hX8",
        "outputId": "7bbe7117-3769-4828-a220-54d508b18ea9",
        "colab": {
          "base_uri": "https://localhost:8080/"
        }
      },
      "execution_count": null,
      "outputs": [
        {
          "output_type": "execute_result",
          "data": {
            "text/plain": [
              "152.7206871868289"
            ]
          },
          "metadata": {},
          "execution_count": 4
        }
      ]
    }
  ]
}